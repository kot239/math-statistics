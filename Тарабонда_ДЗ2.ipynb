{
 "cells": [
  {
   "cell_type": "markdown",
   "metadata": {},
   "source": [
    "Тарабонда Герман\n",
    "ДЗ 2"
   ]
  },
  {
   "cell_type": "code",
   "execution_count": 1,
   "metadata": {},
   "outputs": [
    {
     "data": {
      "image/png": "[encoded data removed]",
      "text/plain": [
       "<Figure size 432x288 with 1 Axes>"
      ]
     },
     "metadata": {
      "needs_background": "light"
     },
     "output_type": "display_data"
    }
   ],
   "source": [
    "import random\n",
    "import math\n",
    "import matplotlib.pyplot as plt\n",
    "\n",
    "def generate_uniform_dist(theta, k, quantity):\n",
    "    return [random.randint(0, theta) ** k for _ in range(quantity)]\n",
    "\n",
    "def finding_uniform_dist_theta(k, m):\n",
    "    return ((k + 1) * m) ** (1 / k)\n",
    "\n",
    "def generate_exponent_dist(theta, k, quantity):\n",
    "    return [random.expovariate(theta) ** k for _ in range(quantity)]\n",
    "\n",
    "def finding_exponent_dist_theta(k, m):\n",
    "    return (m / math.factorial(k)) ** (1 / k)\n",
    "\n",
    "def get_mean_std(ks, theta, generator, finding_theta):\n",
    "    results = []\n",
    "    for k in ks:\n",
    "        std = []\n",
    "        for _ in range(100):\n",
    "            X = generator(theta, k, 1000)\n",
    "            m = sum(X) / 1000\n",
    "            std.append(finding_theta(k, m))\n",
    "        std = list(map(lambda x: (x - theta) ** 2, std))\n",
    "        results.append(sum(std) / 100)\n",
    "    return results\n",
    "\n",
    "ks = [i + 1 for i in range(100)]\n",
    "results_uniform = get_mean_std(ks, 500, generate_uniform_dist, finding_uniform_dist_theta)\n",
    "results_exponent = get_mean_std(ks, 3, generate_exponent_dist, finding_exponent_dist_theta)\n",
    "\n",
    "#plot graphics\n",
    "plt.plot(ks, results_uniform, color='blue', label='uniform')\n",
    "plt.plot(ks, results_exponent, color='red', label='exponential')\n",
    "plt.legend()\n",
    "\n",
    "plt.show()"
   ]
  },
  {
   "cell_type": "markdown",
   "metadata": {},
   "source": []
  }
 ],
 "metadata": {
  "kernelspec": {
   "display_name": "Python 3",
   "language": "python",
   "name": "python3"
  },
  "language_info": {
   "codemirror_mode": {
    "name": "ipython",
    "version": 3
   },
   "file_extension": ".py",
   "mimetype": "text/x-python",
   "name": "python",
   "nbconvert_exporter": "python",
   "pygments_lexer": "ipython3",
   "version": "3.8.3"
  }
 },
 "nbformat": 4,
 "nbformat_minor": 4
}
